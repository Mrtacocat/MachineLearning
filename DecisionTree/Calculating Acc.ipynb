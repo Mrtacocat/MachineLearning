{
 "cells": [
  {
   "cell_type": "code",
   "execution_count": 7,
   "id": "initial_id",
   "metadata": {
    "collapsed": true,
    "ExecuteTime": {
     "end_time": "2024-05-01T15:49:28.758408200Z",
     "start_time": "2024-05-01T15:49:28.729335200Z"
    }
   },
   "outputs": [
    {
     "data": {
      "text/plain": "0.4"
     },
     "execution_count": 7,
     "metadata": {},
     "output_type": "execute_result"
    }
   ],
   "source": [
    "import pandas as pd\n",
    "from sklearn.tree import DecisionTreeClassifier\n",
    "from sklearn.model_selection import train_test_split\n",
    "from sklearn.metrics import accuracy_score\n",
    "\n",
    "# Importerer datasett\n",
    "data = pd.read_csv('Dataset/movie_review.csv')\n",
    "X = data.drop(columns=['id', 'rating', 'genre'])\n",
    "y = data['genre']\n",
    "\n",
    "# første 2 variabler: input sets\n",
    "# andre 2 variabler: output sets\n",
    "X_train, X_test, y_train, y_test = train_test_split(X, y, test_size=0.2)\n",
    "\n",
    "# lager en model\n",
    "model = DecisionTreeClassifier()\n",
    "# trener den\n",
    "model.fit(X_train, y_train)\n",
    "\n",
    "# spør den om å gjøre prediksjoner\n",
    "predictions = model.predict(X_test)\n",
    "\n",
    "score = accuracy_score(y_test, predictions)\n",
    "score "
   ]
  },
  {
   "cell_type": "code",
   "outputs": [],
   "source": [],
   "metadata": {
    "collapsed": false
   },
   "id": "206911acc16c994f"
  }
 ],
 "metadata": {
  "kernelspec": {
   "display_name": "Python 3",
   "language": "python",
   "name": "python3"
  },
  "language_info": {
   "codemirror_mode": {
    "name": "ipython",
    "version": 2
   },
   "file_extension": ".py",
   "mimetype": "text/x-python",
   "name": "python",
   "nbconvert_exporter": "python",
   "pygments_lexer": "ipython2",
   "version": "2.7.6"
  }
 },
 "nbformat": 4,
 "nbformat_minor": 5
}
